{
 "cells": [
  {
   "cell_type": "markdown",
   "id": "16f26437-8800-4034-a5e2-659671b404f3",
   "metadata": {},
   "source": [
    "# Balls and Buckets in Python"
   ]
  },
  {
   "cell_type": "markdown",
   "id": "11a38c37-dd1c-4bb4-88c6-eff354d92e42",
   "metadata": {},
   "source": [
    "Description:"
   ]
  },
  {
   "cell_type": "markdown",
   "id": "c6665ff3-b7bc-4dc0-8374-1622382d9898",
   "metadata": {},
   "source": [
    "There are N buckets arranged in row list. Each bucket either is empty or contains a ball. The buckets are specified as a string buckets consisting of characters (empty bucket) and B\" (bucket with a ball). For example, \"B.BB.B..B\" In one move you can take the ball out of any bucket and place it in another (empty) bucket. Your goal is to arrange the balls to create an alternating sequence of full and empty buckets. In other words, the distance between two consecutive balls should be equal to 2. Note that the sequence may start at any bucket.  What is the minimum number of moves required to create a correct sequence of balls in buckets? Write a function: def solution (buckets) that, given a string buckets of length N, returns the minimum number of moves required to create the described sequence. If it is impossible to create a correct sequence, return -1.  Examples: a) Given buckets = \"..B....B.BB\", the function should return 2. b) Given buckets = \"BB.B.BBB...\" the function should return 4. c) Given buckets = BBB.B the function should return -1 because it is impossible to create a correct sequence. d) Given buckets =\"......B.B\", the function should return 0. There is no need to move any ball because the sequence is already correct."
   ]
  },
  {
   "cell_type": "code",
   "execution_count": null,
   "id": "b617e21a-ec8a-45d7-9d27-b14b9a8ed6a6",
   "metadata": {},
   "outputs": [],
   "source": [
    "# Clear memory"
   ]
  },
  {
   "cell_type": "code",
   "execution_count": null,
   "id": "a284f34f-8e72-4195-8623-db71c02134bb",
   "metadata": {},
   "outputs": [],
   "source": [
    "%reset -sf\n",
    "%clear"
   ]
  },
  {
   "cell_type": "code",
   "execution_count": null,
   "id": "f0926e10-1146-47fc-a474-6207a89dbf82",
   "metadata": {},
   "outputs": [],
   "source": []
  },
  {
   "cell_type": "code",
   "execution_count": null,
   "id": "a7198cd8-3a4f-4f94-9037-1dfa8e1c9852",
   "metadata": {},
   "outputs": [],
   "source": [
    "# Examples to test (Expected output in comments)"
   ]
  },
  {
   "cell_type": "code",
   "execution_count": 3,
   "id": "b38ae889-b344-477e-9074-fa8faa3b685e",
   "metadata": {},
   "outputs": [],
   "source": [
    "ex_1 = '..B....B.BB' # 2 moves\n",
    "ex_2 = 'BB.B.BBB...' # 4 moves\n",
    "ex_3 = '.BBB.B' # -1 impossible (not enough spaces)\n",
    "ex_4 = '......B.B' # 0 already correct"
   ]
  },
  {
   "cell_type": "code",
   "execution_count": null,
   "id": "fe76d801-e603-481b-b8ee-80efea83431d",
   "metadata": {},
   "outputs": [],
   "source": []
  },
  {
   "cell_type": "code",
   "execution_count": null,
   "id": "c247e3da-2b4a-4964-9faf-305415421c8c",
   "metadata": {},
   "outputs": [],
   "source": [
    "# Solution Function"
   ]
  },
  {
   "cell_type": "code",
   "execution_count": 4,
   "id": "27ee9282-18bf-4bd9-90cd-106fc54b099c",
   "metadata": {},
   "outputs": [],
   "source": [
    "# Odd number - Cannot be divided by 2 without remainder\n",
    "# Even number - Can be divided by 2 without remainder (even 0)\n",
    "\n",
    "def solution(buckets):\n",
    "    print(buckets)\n",
    "    n = len(buckets) # number of items in array\n",
    "    ball_odd = 0 # Counter of balls in odd positions (1,3,5,...) - impairs (cannot be divided by 2 without remainder)\n",
    "    ball_even = 0 # Counter of balls in even positions (2,4,6,...) - pairs (can be divided by 2 without remainder)\n",
    "    bucket_odd = 0 # Counter for number of buckets in odd positions\n",
    "    bucket_even = 0 # Counter for number of buckets in even positions\n",
    "    \n",
    "    for i in range(n): # For each item in the array\n",
    "        if buckets[i] == 'B': # If the item INDEX is a ball B\n",
    "            if i % 2 == 0: # If no remainder - is a ball positioned on even INDEX\n",
    "                ball_even += 1 # Add one more even positioned ball to counter\n",
    "            else:\n",
    "                ball_odd += 1 # There is a remainder - ball positioned on odd INDEX - add one more odd positioned ball to counter\n",
    "        else: # If the item is NOT a ball - If the current item not equals B\n",
    "            if i % 2 == 0: # If no remainder - is a bucket positioned on even INDEX\n",
    "                bucket_even += 1 # Add one more even positioned bucket to counter\n",
    "            else:\n",
    "                bucket_odd += 1 # There is a remainder - bucket positioned on odd INDEX - add one more odd positioned bucket to counter\n",
    "\n",
    "    min_moves = -1 # By default return -1 no moves possible (not enough empty buckets to arrange)\n",
    "\n",
    "    print(f'Odd Balls: {ball_odd}, Even Buckets: {bucket_even}, Even Balls: {ball_even}, Odd Buckets: {bucket_odd}')\n",
    "    \n",
    "    '''\n",
    "    If there are enough even buckets to place odd balls in them\n",
    "    AND if there are enough odd buckets to place even balls in them\n",
    "    '''\n",
    "    if (ball_odd <= bucket_even) and (ball_even <= bucket_odd): \n",
    "        min_moves = min(ball_odd, ball_even) # If both possible then select the minimum of balls to move (even or odd)\n",
    "        print('Both conditions satistified')\n",
    "    elif ball_odd <= bucket_even: # Number of odd balls can be placed in enough even buckets\n",
    "        min_moves = ball_odd # Set new minima\n",
    "        print('Number of odd balls <= even buckets')\n",
    "    elif ball_even <= bucket_odd: # Number of even balls can be placed in enough odd buckets\n",
    "        min_moves = ball_even # Set new minima\n",
    "        print('Number of even balls <= odd buckets')\n",
    "    \n",
    "    return min_moves"
   ]
  },
  {
   "cell_type": "code",
   "execution_count": null,
   "id": "c53b0259-5fc3-4d97-b1a8-1635f25b09c1",
   "metadata": {},
   "outputs": [],
   "source": []
  },
  {
   "cell_type": "code",
   "execution_count": 9,
   "id": "e3f2555f-8ae5-437b-bf50-049a63806c1b",
   "metadata": {},
   "outputs": [],
   "source": [
    "### Testing for examples"
   ]
  },
  {
   "cell_type": "code",
   "execution_count": 5,
   "id": "e46009ad-4c97-4867-8a2a-b3059374394d",
   "metadata": {},
   "outputs": [
    {
     "name": "stdout",
     "output_type": "stream",
     "text": [
      "..B....B.BB\n",
      "Odd Balls: 2, Even Buckets: 4, Even Balls: 2, Odd Buckets: 3\n",
      "Both conditions satistified\n"
     ]
    },
    {
     "data": {
      "text/plain": [
       "2"
      ]
     },
     "execution_count": 5,
     "metadata": {},
     "output_type": "execute_result"
    }
   ],
   "source": [
    "solution(ex_1) # 2"
   ]
  },
  {
   "cell_type": "code",
   "execution_count": 6,
   "id": "7a5e156a-acfb-4e32-8200-590fe6166344",
   "metadata": {},
   "outputs": [
    {
     "name": "stdout",
     "output_type": "stream",
     "text": [
      "BB.B.BBB...\n",
      "Odd Balls: 4, Even Buckets: 4, Even Balls: 2, Odd Buckets: 1\n",
      "Number of odd balls <= even buckets\n"
     ]
    },
    {
     "data": {
      "text/plain": [
       "4"
      ]
     },
     "execution_count": 6,
     "metadata": {},
     "output_type": "execute_result"
    }
   ],
   "source": [
    "solution(ex_2) # 4"
   ]
  },
  {
   "cell_type": "code",
   "execution_count": 7,
   "id": "c598d677-6fe2-4284-835a-a2fd580bbf3c",
   "metadata": {},
   "outputs": [
    {
     "name": "stdout",
     "output_type": "stream",
     "text": [
      ".BBB.B\n",
      "Odd Balls: 3, Even Buckets: 2, Even Balls: 1, Odd Buckets: 0\n"
     ]
    },
    {
     "data": {
      "text/plain": [
       "-1"
      ]
     },
     "execution_count": 7,
     "metadata": {},
     "output_type": "execute_result"
    }
   ],
   "source": [
    "solution(ex_3) # -1"
   ]
  },
  {
   "cell_type": "code",
   "execution_count": 8,
   "id": "26b9b022-40eb-445d-87ce-8f4c36787b94",
   "metadata": {},
   "outputs": [
    {
     "name": "stdout",
     "output_type": "stream",
     "text": [
      "......B.B\n",
      "Odd Balls: 0, Even Buckets: 3, Even Balls: 2, Odd Buckets: 4\n",
      "Both conditions satistified\n"
     ]
    },
    {
     "data": {
      "text/plain": [
       "0"
      ]
     },
     "execution_count": 8,
     "metadata": {},
     "output_type": "execute_result"
    }
   ],
   "source": [
    "solution(ex_4) # 0"
   ]
  },
  {
   "cell_type": "code",
   "execution_count": null,
   "id": "a7462553-bc0d-4002-a00b-4ed482cc4d52",
   "metadata": {},
   "outputs": [],
   "source": []
  },
  {
   "cell_type": "code",
   "execution_count": null,
   "id": "1c693821-a0c2-4831-9e9f-c54814c50d4f",
   "metadata": {},
   "outputs": [],
   "source": []
  },
  {
   "cell_type": "code",
   "execution_count": null,
   "id": "615b2523-06d8-4878-81ae-01c709961ec0",
   "metadata": {},
   "outputs": [],
   "source": []
  },
  {
   "cell_type": "code",
   "execution_count": null,
   "id": "e63a5a00-fab7-4945-a76d-bd516ef632f2",
   "metadata": {},
   "outputs": [],
   "source": []
  },
  {
   "cell_type": "code",
   "execution_count": null,
   "id": "3ba53fb1-4af3-474f-97d1-748d5e77f232",
   "metadata": {},
   "outputs": [],
   "source": []
  },
  {
   "cell_type": "code",
   "execution_count": null,
   "id": "e0f68089-f91f-430e-a7e1-b0aeb1b8329a",
   "metadata": {},
   "outputs": [],
   "source": []
  }
 ],
 "metadata": {
  "kernelspec": {
   "display_name": "Python 3 (ipykernel)",
   "language": "python",
   "name": "python3"
  },
  "language_info": {
   "codemirror_mode": {
    "name": "ipython",
    "version": 3
   },
   "file_extension": ".py",
   "mimetype": "text/x-python",
   "name": "python",
   "nbconvert_exporter": "python",
   "pygments_lexer": "ipython3",
   "version": "3.9.19"
  }
 },
 "nbformat": 4,
 "nbformat_minor": 5
}
